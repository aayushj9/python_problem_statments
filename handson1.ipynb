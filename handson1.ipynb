{
 "cells": [
  {
   "cell_type": "markdown",
   "metadata": {},
   "source": [
    "Problem Statement 1: Simple Budget Tracker\n",
    "\n",
    "Objective:\n",
    "Create a Python program that helps users track their daily expenses and calculate their remaining budget for the month.\n",
    "\n",
    "Background:\n",
    "Managing personal finances is essential, and one of the first steps in doing so is keeping track of daily expenses. As a beginner in Python, you will create a simple application that allows users to input their daily expenses and view their remaining budget.\n",
    "\n",
    "Requirements:\n",
    "\n",
    "Input:\n",
    "\n",
    "The program should start by asking the user for their total budget for the month.\n",
    "Each day, the user can input their daily expenses in various categories (e.g., food, transportation, entertainment).\n",
    "Process:\n",
    "\n",
    "The program should keep a running total of the expenses.\n",
    "After each input, the program should update the total expenses and subtract it from the monthly budget to show the remaining budget.\n",
    "Output:\n",
    "\n",
    "Display the total amount spent so far.\n",
    "Display the remaining budget.\n",
    "If the user tries to spend more than their remaining budget, the program should display a warning message.\n",
    "Bonus Features:\n",
    "\n",
    "Allow users to categorize their expenses and display a breakdown of expenses by category.\n",
    "Add the ability for the user to reset their budget and start over.\n"
   ]
  },
  {
   "cell_type": "code",
   "execution_count": 5,
   "metadata": {},
   "outputs": [],
   "source": [
    "def handle_budget(total_budget):\n",
    "    food_expense =  0\n",
    "    transport_expense = 0\n",
    "    entertainment_expense = 0\n",
    "    other_expense = 0\n",
    "    warning_messege = \"You are over budget, dont have budget for this month\"\n",
    "\n",
    "    for i in range(1,31,1):\n",
    "        reset_budget = input(\"Do you want to reset budget (if yes press y otherwise any other key?\")\n",
    "        if reset_budget == 'y':\n",
    "            return handle_budget(total_budget)\n",
    "        else :\n",
    "            print(f\"Please provide the expense for Day {i}\")\n",
    "            food_expense_day = int(input(f\"Food expense for day {i}\"))\n",
    "            transport_expense_day = int(input(f\"Transport expense for day {i}\"))\n",
    "            entertainment_expense_day = int(input(f\"Entertainment expense for day {i}\"))\n",
    "            other_expense_day = int(input(f\"Other expense for day {i}\")) \n",
    "            food_expense +=  food_expense_day \n",
    "            transport_expense += transport_expense_day\n",
    "            entertainment_expense += entertainment_expense_day\n",
    "            other_expense += other_expense_day\n",
    "            total_spent = food_expense + transport_expense + entertainment_expense + other_expense\n",
    "            budget_remaining = total_budget - total_spent\n",
    "            if budget_remaining < 0 : \n",
    "                print (warning_messege)\n",
    "                print(\"you need to reset your budget\")\n",
    "                reset_budget = input(\"Do you want to reset your budget and start again (Press y otherwise any other key)? \")\n",
    "                if reset_budget == \"y\":\n",
    "                    return handle_budget(total_budget)\n",
    "                else : \n",
    "                    print(\"Thanks for using the budget function !\")\n",
    "                    return\n",
    "            else : \n",
    "                print(f\"Total Amount Spent till day {i}: \", total_spent)\n",
    "                print(f\"Total remaining budget after day {i} : \", budget_remaining)\n",
    "                print(f\"Total spent on food till day {i}\", food_expense)\n",
    "                print(f\"Total spent on transport till day {i}\", transport_expense)\n",
    "                print(f\"Total spent on entertainment till day {i}\", entertainment_expense)\n",
    "                print(f\"Total spent on other till day {i}\", other_expense)\n",
    "            \n",
    "\n"
   ]
  },
  {
   "cell_type": "code",
   "execution_count": 6,
   "metadata": {},
   "outputs": [
    {
     "name": "stdout",
     "output_type": "stream",
     "text": [
      "Please provide the expense for Day 1\n",
      "Total Amount Spent till day 1:  220\n",
      "Total remaining budget after day 1 :  24780\n",
      "Total spent on food till day 1 120\n",
      "Total spent on transport till day 1 100\n",
      "Total spent on entertainment till day 1 0\n",
      "Total spent on other till day 1 0\n",
      "Please provide the expense for Day 2\n",
      "You are over budget, dont have budget for this month\n",
      "you need to reset your budget\n",
      "Thanks for using the budget function !\n"
     ]
    }
   ],
   "source": [
    "total_budget = int(input(\"Please enter the total budget: \"))\n",
    "\n",
    "# Considering there are 30 days in a month. \n",
    "# IN a for loop user will be providing the daily expenses i category Food, entertainment, transport and others. \n",
    "# I would like to create a For loop for this. \n",
    "# considering 1st date is a monday and every saturday and sunday is a holiday. \n",
    "\n",
    "# considering 3 categories Food, Transport, Entertainment and others. \n",
    "\n",
    "# Here if user wants to reset the budget he has to press a key = \"Yes\" otherwise it won't.\n",
    "\n",
    "handle_budget(total_budget)\n"
   ]
  },
  {
   "cell_type": "code",
   "execution_count": null,
   "metadata": {},
   "outputs": [],
   "source": []
  }
 ],
 "metadata": {
  "kernelspec": {
   "display_name": "Python 3",
   "language": "python",
   "name": "python3"
  },
  "language_info": {
   "codemirror_mode": {
    "name": "ipython",
    "version": 3
   },
   "file_extension": ".py",
   "mimetype": "text/x-python",
   "name": "python",
   "nbconvert_exporter": "python",
   "pygments_lexer": "ipython3",
   "version": "3.11.9"
  }
 },
 "nbformat": 4,
 "nbformat_minor": 2
}
