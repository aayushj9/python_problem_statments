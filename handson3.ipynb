{
 "cells": [
  {
   "cell_type": "markdown",
   "metadata": {},
   "source": [
    "Problem Statement 3: Multiplication Table Generator\n",
    "Objective:\n",
    "Create a Python program that generates and displays the multiplication table for a given number.\n",
    "\n",
    "Background:\n",
    "Understanding multiplication tables is fundamental in mathematics. In this task, you will build a program that takes a number as input and generates its multiplication table up to a specified range. This will help reinforce the concepts of loops and iteration in Python.\n",
    "\n",
    "Requirements:\n",
    "\n",
    "Input:\n",
    "\n",
    "The program should prompt the user to enter a number for which they want the multiplication table.\n",
    "The program should also ask for the range up to which the table should be generated (e.g., up to 10, 12, etc.).\n",
    "Process:\n",
    "\n",
    "Use a loop to iterate through the numbers from 1 to the specified range.\n",
    "For each iteration, multiply the given number by the current loop index and store/display the result.\n",
    "Output:\n",
    "\n",
    "Display the multiplication table in a clear format (e.g., \"5 x 1 = 5\", \"5 x 2 = 10\", etc.).\n",
    "Bonus Features:\n",
    "\n",
    "Allow the user to generate multiplication tables for multiple numbers in a single session.\n",
    "Format the output in a neatly aligned tabular format."
   ]
  },
  {
   "cell_type": "code",
   "execution_count": 1,
   "metadata": {},
   "outputs": [],
   "source": [
    "def Multiplication_table(Numbers, range_t):\n",
    "    \n",
    "    for number in range(Numbers):\n",
    "        i = 1\n",
    "        print(f\"number * Multiplier  = Multiplication\")\n",
    "        for i in range (range_t+1):\n",
    "            print(f\"{number} * {i}  = {number * i}\")\n",
    "\n",
    "    "
   ]
  },
  {
   "cell_type": "code",
   "execution_count": 2,
   "metadata": {},
   "outputs": [
    {
     "ename": "SyntaxError",
     "evalue": "invalid syntax (597678589.py, line 4)",
     "output_type": "error",
     "traceback": [
      "\u001b[1;36m  Cell \u001b[1;32mIn[2], line 4\u001b[1;36m\u001b[0m\n\u001b[1;33m    Multiplication_table (Numbers, range_t=)\u001b[0m\n\u001b[1;37m                                           ^\u001b[0m\n\u001b[1;31mSyntaxError\u001b[0m\u001b[1;31m:\u001b[0m invalid syntax\n"
     ]
    }
   ],
   "source": [
    "Numbers = [5,6,7,8,9]\n",
    "range_t = 10\n",
    "\n",
    "Multiplication_table (Numbers, range_t)"
   ]
  },
  {
   "cell_type": "code",
   "execution_count": null,
   "metadata": {},
   "outputs": [],
   "source": []
  }
 ],
 "metadata": {
  "kernelspec": {
   "display_name": "Python 3",
   "language": "python",
   "name": "python3"
  },
  "language_info": {
   "codemirror_mode": {
    "name": "ipython",
    "version": 3
   },
   "file_extension": ".py",
   "mimetype": "text/x-python",
   "name": "python",
   "nbconvert_exporter": "python",
   "pygments_lexer": "ipython3",
   "version": "3.11.9"
  }
 },
 "nbformat": 4,
 "nbformat_minor": 2
}
