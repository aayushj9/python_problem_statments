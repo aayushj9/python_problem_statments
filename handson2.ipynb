{
 "cells": [
  {
   "cell_type": "markdown",
   "metadata": {},
   "source": [
    "Problem Statement 2: Grade Calculator\n",
    "Objective:\n",
    "Create a Python program that calculates and assigns a letter grade based on a student's numerical score.\n",
    "\n",
    "Background:\n",
    "Grading systems are often used to evaluate students' performance. In this task, you will build a simple program that takes a numerical score as input and assigns the corresponding letter grade according to a predefined scale.\n",
    "\n",
    "Requirements:\n",
    "\n",
    "Input:\n",
    "\n",
    "The program should prompt the user to enter a student's score as a percentage (e.g., 85.5).\n",
    "Process:\n",
    "\n",
    "The program should determine the letter grade based on the following grading scale:\n",
    "A: 90% and above\n",
    "B: 80% to 89.99%\n",
    "C: 70% to 79.99%\n",
    "D: 60% to 69.99%\n",
    "F: Below 60%\n",
    "Output:\n",
    "\n",
    "The program should display the student's letter grade.\n",
    "Bonus Features:\n",
    "\n",
    "Allow the user to input multiple scores and calculate the average grade.\n",
    "Display a message encouraging the student to improve if the grade is below a certain threshold (e.g., below a C)."
   ]
  },
  {
   "cell_type": "code",
   "execution_count": 14,
   "metadata": {},
   "outputs": [
    {
     "ename": "SyntaxError",
     "evalue": "expected ':' (2889005595.py, line 14)",
     "output_type": "error",
     "traceback": [
      "\u001b[1;36m  Cell \u001b[1;32mIn[14], line 14\u001b[1;36m\u001b[0m\n\u001b[1;33m    if grade == \"D\" or grade == \"F\"\u001b[0m\n\u001b[1;37m                                   ^\u001b[0m\n\u001b[1;31mSyntaxError\u001b[0m\u001b[1;31m:\u001b[0m expected ':'\n"
     ]
    }
   ],
   "source": [
    "def grade_calculator(avg_score):\n",
    "    if avg_score >= 90.0:\n",
    "        grade = \"A\"\n",
    "    elif avg_score >=80.0:\n",
    "        grade = \"B\"\n",
    "    elif avg_score >=70.0:\n",
    "        grade = \"C\"\n",
    "    elif avg_score >=60.0:\n",
    "        grade = \"D\"\n",
    "    else:\n",
    "        grade = \"F\"\n",
    "\n",
    "    print(\"Student grade is : Grade\", grade) \n",
    "    if grade == \"D\" or grade == \"F\":\n",
    "        print(\"Please focus on Study more!\")\n"
   ]
  },
  {
   "cell_type": "code",
   "execution_count": 13,
   "metadata": {},
   "outputs": [
    {
     "name": "stdout",
     "output_type": "stream",
     "text": [
      "[60.0, 70.0, 60.0, 40.0]\n",
      "57.5\n",
      "Student grade is : Grade F\n"
     ]
    }
   ],
   "source": [
    "scorecard = []\n",
    "i = 1\n",
    "while True : \n",
    "    score = float(input(f\"(Enter the score for subject {i} (Press any negative number if wants to stop or else press between 0 to 100):\"))\n",
    "    i = i +1\n",
    "    if score < 0:\n",
    "        break\n",
    "    scorecard.append(score)\n",
    "\n",
    "print(scorecard)\n",
    "\n",
    "if scorecard:\n",
    "    avg_score = sum (scorecard)/len(scorecard)\n",
    "print(avg_score)\n",
    "\n",
    "grade_calculator(avg_score)"
   ]
  },
  {
   "cell_type": "code",
   "execution_count": null,
   "metadata": {},
   "outputs": [],
   "source": []
  }
 ],
 "metadata": {
  "kernelspec": {
   "display_name": "Python 3",
   "language": "python",
   "name": "python3"
  },
  "language_info": {
   "codemirror_mode": {
    "name": "ipython",
    "version": 3
   },
   "file_extension": ".py",
   "mimetype": "text/x-python",
   "name": "python",
   "nbconvert_exporter": "python",
   "pygments_lexer": "ipython3",
   "version": "3.11.9"
  }
 },
 "nbformat": 4,
 "nbformat_minor": 2
}
